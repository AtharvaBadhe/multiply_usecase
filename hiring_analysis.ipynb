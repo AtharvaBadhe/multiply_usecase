{
 "cells": [
  {
   "cell_type": "markdown",
   "metadata": {},
   "source": [
    "# Analysis of Hiring Data for multiply.ai's Potential Customers\n",
    "\n",
    "This notebook provides a data-driven analysis of hiring trends for five potential customers: **Foster Denovo, Ascot Lloyd, Quilter, Succession Group, and True Potential**. The insights are presented directly after each corresponding analysis or visualization."
   ]
  },
  {
   "cell_type": "markdown",
   "metadata": {},
   "source": [
    "---"
   ]
  },
  {
   "cell_type": "markdown",
   "metadata": {},
   "source": [
    "## Part 1: High-Level and Company-Specific Hiring Trends"
   ]
  },
  {
   "cell_type": "code",
   "execution_count": 1,
   "metadata": {},
   "outputs": [
    {
     "name": "stdout",
     "output_type": "stream",
     "text": [
      "Dataset loaded and cleaned successfully.\n"
     ]
    },
    {
     "name": "stderr",
     "output_type": "stream",
     "text": [
      "C:\\Users\\Lenovo\\AppData\\Local\\Temp\\ipykernel_90204\\2297786512.py:11: FutureWarning: A value is trying to be set on a copy of a DataFrame or Series through chained assignment using an inplace method.\n",
      "The behavior will change in pandas 3.0. This inplace method will never work because the intermediate object on which we are setting values always behaves as a copy.\n",
      "\n",
      "For example, when doing 'df[col].method(value, inplace=True)', try using 'df.method({col: value}, inplace=True)' or df[col] = df[col].method(value) instead, to perform the operation inplace on the original object.\n",
      "\n",
      "\n",
      "  df['department'].fillna('Unknown', inplace=True)\n",
      "C:\\Users\\Lenovo\\AppData\\Local\\Temp\\ipykernel_90204\\2297786512.py:12: FutureWarning: A value is trying to be set on a copy of a DataFrame or Series through chained assignment using an inplace method.\n",
      "The behavior will change in pandas 3.0. This inplace method will never work because the intermediate object on which we are setting values always behaves as a copy.\n",
      "\n",
      "For example, when doing 'df[col].method(value, inplace=True)', try using 'df.method({col: value}, inplace=True)' or df[col] = df[col].method(value) instead, to perform the operation inplace on the original object.\n",
      "\n",
      "\n",
      "  df['high_level_department'].fillna('Unknown', inplace=True)\n",
      "C:\\Users\\Lenovo\\AppData\\Local\\Temp\\ipykernel_90204\\2297786512.py:13: FutureWarning: A value is trying to be set on a copy of a DataFrame or Series through chained assignment using an inplace method.\n",
      "The behavior will change in pandas 3.0. This inplace method will never work because the intermediate object on which we are setting values always behaves as a copy.\n",
      "\n",
      "For example, when doing 'df[col].method(value, inplace=True)', try using 'df.method({col: value}, inplace=True)' or df[col] = df[col].method(value) instead, to perform the operation inplace on the original object.\n",
      "\n",
      "\n",
      "  df['description'].fillna('', inplace=True)\n"
     ]
    }
   ],
   "source": [
    "import pandas as pd\n",
    "import matplotlib.pyplot as plt\n",
    "import seaborn as sns\n",
    "import re\n",
    "\n",
    "# Load the dataset\n",
    "df = pd.read_csv('hiring_data_final.csv')\n",
    "\n",
    "# --- Initial Data Cleaning ---\n",
    "df.drop(columns=['job_url', 'posted_date'], inplace=True)\n",
    "df['department'].fillna('Unknown', inplace=True)\n",
    "df['high_level_department'].fillna('Unknown', inplace=True)\n",
    "df['description'].fillna('', inplace=True)\n",
    "\n",
    "print(\"Dataset loaded and cleaned successfully.\")"
   ]
  },
  {
   "cell_type": "markdown",
   "metadata": {},
   "source": [
    "### Insight 1: Overall Company Hiring Volume"
   ]
  },
  {
   "cell_type": "code",
   "execution_count": null,
   "metadata": {},
   "outputs": [],
   "source": [
    "plt.figure(figsize=(12, 7))\n",
    "company_distribution = df['customer'].value_counts()\n",
    "sns.barplot(x=company_distribution.index, y=company_distribution.values, palette='viridis')\n",
    "plt.title('Distribution of Job Postings by Company', fontsize=16)\n",
    "plt.xlabel('Company', fontsize=12)\n",
    "plt.ylabel('Number of Job Postings', fontsize=12)\n",
    "plt.xticks(rotation=45, ha='right')\n",
    "plt.tight_layout()\n",
    "plt.show()"
   ]
  },
  {
   "cell_type": "markdown",
   "metadata": {},
   "source": [
    "#### Actionable Insight\n",
    "The visualization indicates a significant disparity in hiring volume. Companies with a high number of job postings are likely in a phase of rapid growth, suggesting a potential strain on their operational capacity. Firms with lower volumes may be more focused on stability and internal efficiency."
   ]
  },
  {
   "cell_type": "markdown",
   "metadata": {},
   "source": [
    "### Insight 2: Aggregated High-Level Department Analysis"
   ]
  },
  {
   "cell_type": "code",
   "execution_count": null,
   "metadata": {},
   "outputs": [],
   "source": [
    "plt.figure(figsize=(12, 7))\n",
    "department_distribution = df['high_level_department'].value_counts()\n",
    "sns.barplot(x=department_distribution.index, y=department_distribution.values, palette='magma')\n",
    "plt.title('Hiring by High-Level Department (All Companies)', fontsize=16)\n",
    "plt.xlabel('High-Level Department', fontsize=12)\n",
    "plt.ylabel('Number of Job Postings', fontsize=12)\n",
    "plt.xticks(rotation=45, ha='right')\n",
    "plt.tight_layout()\n",
    "plt.show()"
   ]
  },
  {
   "cell_type": "markdown",
   "metadata": {},
   "source": [
    "#### Actionable Insight\n",
    "Across all companies, hiring is heavily concentrated in **'Finance & Advisory'** and **'Financial Planning & Wealth Management'**. This confirms that the core business function being expanded is client-facing advisory services. The primary need is for tools that can directly support and enhance the productivity of financial advisors, paraplanners, and wealth managers."
   ]
  },
  {
   "cell_type": "markdown",
   "metadata": {},
   "source": [
    "---"
   ]
  },
  {
   "cell_type": "markdown",
   "metadata": {},
   "source": [
    "### Insight 3: Company-Specific Hiring Priorities"
   ]
  },
  {
   "cell_type": "code",
   "execution_count": null,
   "metadata": {},
   "outputs": [],
   "source": [
    "plt.figure(figsize=(12, 8))\n",
    "company_df = df[df['customer'] == 'Foster Denovo']\n",
    "department_counts = company_df['department'].value_counts().nlargest(10)\n",
    "sns.barplot(x=department_counts.index, y=department_counts.values, palette='coolwarm')\n",
    "plt.title(f'Top 10 Hiring Departments in Foster Denovo', fontsize=16)\n",
    "plt.xlabel('Department', fontsize=12)\n",
    "plt.ylabel('Number of Job Postings', fontsize=12)\n",
    "plt.xticks(rotation=45, ha='right')\n",
    "plt.tight_layout()\n",
    "plt.show()"
   ]
  },
  {
   "cell_type": "markdown",
   "metadata": {},
   "source": [
    "#### A Deeper Look at Foster Denovo\n",
    "\n",
    "This chart provides a granular view of the top hiring departments specifically within **Foster Denovo**.\n",
    "\n",
    "**Actionable Insight for multiply.ai:**\n",
    "\n",
    "By understanding the specific departments that `Foster Denovo` is expanding, `multiply.ai` can tailor its outreach with a highly specific value proposition.\n",
    "\n",
    "* **Dominant Departments:** `Foster Denovo` is heavily hiring in **\"Financial Planning & Wealth Management\"** and **\"Paraplanner\"** roles. `multiply.ai` can directly address the needs of these teams by showcasing how its platform helps new and existing staff perform deep financial analysis, generate suitability reports, and manage client plans with greater speed and accuracy.\n",
    "* **Emerging Departments:** While the focus is on core financial roles, the need for efficiency is implicit. `multiply.ai` can highlight how its platform reduces the administrative burden on these valuable specialists, allowing them to focus on client strategy rather than manual data work, which is a strong value proposition for operational efficiency."
   ]
  },
  {
   "cell_type": "code",
   "execution_count": null,
   "metadata": {},
   "outputs": [],
   "source": [
    "plt.figure(figsize=(12, 8))\n",
    "company_df = df[df['customer'] == 'Ascot Lloyd']\n",
    "department_counts = company_df['department'].value_counts().nlargest(10)\n",
    "sns.barplot(x=department_counts.index, y=department_counts.values, palette='coolwarm')\n",
    "plt.title(f'Top 10 Hiring Departments in Ascot Lloyd', fontsize=16)\n",
    "plt.xlabel('Department', fontsize=12)\n",
    "plt.ylabel('Number of Job Postings', fontsize=12)\n",
    "plt.xticks(rotation=45, ha='right')\n",
    "plt.tight_layout()\n",
    "plt.show()"
   ]
  },
  {
   "cell_type": "markdown",
   "metadata": {},
   "source": [
    "#### A Deeper Look at Ascot Lloyd\n",
    "\n",
    "This chart provides a granular view of the top hiring departments specifically within **Ascot Lloyd**.\n",
    "\n",
    "**Actionable Insight for multiply.ai:**\n",
    "\n",
    "By understanding the specific departments that `Ascot Lloyd` is expanding, `multiply.ai` can tailor its outreach with a highly specific value proposition.\n",
    "\n",
    "* **Dominant Departments:** `Ascot Lloyd`'s top hiring is in **\"Financial Planning\"** and **\"Advisory\"** roles. `multiply.ai` can showcase how its platform empowers these client-facing teams, helping them to manage larger client books efficiently and deliver high-quality, data-driven advice.\n",
    "* **Emerging Departments:** The significant hiring in **\"Client Services\"** and **\"Administrator\"** roles indicates a major focus on operational support to handle growth. This is a key pain point `multiply.ai` can solve by highlighting how its automation of onboarding, reviews, and reporting can dramatically reduce the administrative workload on these teams."
   ]
  },
  {
   "cell_type": "code",
   "execution_count": null,
   "metadata": {},
   "outputs": [],
   "source": [
    "plt.figure(figsize=(12, 8))\n",
    "company_df = df[df['customer'] == 'Quilter']\n",
    "department_counts = company_df['department'].value_counts().nlargest(10)\n",
    "sns.barplot(x=department_counts.index, y=department_counts.values, palette='coolwarm')\n",
    "plt.title(f'Top 10 Hiring Departments in Quilter', fontsize=16)\n",
    "plt.xlabel('Department', fontsize=12)\n",
    "plt.ylabel('Number of Job Postings', fontsize=12)\n",
    "plt.xticks(rotation=45, ha='right')\n",
    "plt.tight_layout()\n",
    "plt.show()"
   ]
  },
  {
   "cell_type": "markdown",
   "metadata": {},
   "source": [
    "#### A Deeper Look at Quilter\n",
    "\n",
    "This chart provides a granular view of the top hiring departments specifically within **Quilter**.\n",
    "\n",
    "**Actionable Insight for multiply.ai:**\n",
    "\n",
    "By understanding the specific departments that `Quilter` is expanding, `multiply.ai` can tailor its outreach with a highly specific value proposition.\n",
    "\n",
    "* **Dominant Departments:** Hiring is strong in core **\"Wealth Management\"** roles. For these teams, `multiply.ai` can showcase its advanced analytical capabilities and how it helps advisors provide sophisticated, personalized advice to high-net-worth clients.\n",
    "* **Emerging Departments:** `Quilter` shows significant hiring in **\"IT\"** and **\"Cybersecurity\"**. This indicates that technology and security are high priorities. `multiply.ai` should lead with its enterprise-grade security, data encryption, and compliance features, assuring these departments that the platform is robust, secure, and a safe choice for a large, regulated institution."
   ]
  },
  {
   "cell_type": "code",
   "execution_count": null,
   "metadata": {},
   "outputs": [],
   "source": [
    "plt.figure(figsize=(12, 8))\n",
    "company_df = df[df['customer'] == 'Succession Group']\n",
    "department_counts = company_df['department'].value_counts().nlargest(10)\n",
    "sns.barplot(x=department_counts.index, y=department_counts.values, palette='coolwarm')\n",
    "plt.title(f'Top 10 Hiring Departments in Succession Group', fontsize=16)\n",
    "plt.xlabel('Department', fontsize=12)\n",
    "plt.ylabel('Number of Job Postings', fontsize=12)\n",
    "plt.xticks(rotation=45, ha='right')\n",
    "plt.tight_layout()\n",
    "plt.show()"
   ]
  },
  {
   "cell_type": "markdown",
   "metadata": {},
   "source": [
    "#### A Deeper Look at Succession Group\n",
    "\n",
    "This chart provides a granular view of the top hiring departments specifically within **Succession Group**.\n",
    "\n",
    "**Actionable Insight for multiply.ai:**\n",
    "\n",
    "By understanding the specific departments that `Succession Group` is expanding, `multiply.ai` can tailor its outreach with a highly specific value proposition.\n",
    "\n",
    "* **Dominant Departments:** The focus on **\"Financial Planning\"** roles is clear. `multiply.ai` can address this by demonstrating how its AI-powered tools streamline the entire financial planning workflow, from data gathering to plan creation and presentation, making planners more efficient.\n",
    "* **Emerging Departments:** The hiring for **\"Client Services / Admin\"** roles suggests a need to improve operational efficiency. `multiply.ai` can show how its platform automates many of the manual tasks handled by these teams, freeing them up for higher-value client interaction and support."
   ]
  },
  {
   "cell_type": "code",
   "execution_count": null,
   "metadata": {},
   "outputs": [],
   "source": [
    "plt.figure(figsize=(12, 8))\n",
    "company_df = df[df['customer'] == 'True Potential']\n",
    "department_counts = company_df['department'].value_counts().nlargest(10)\n",
    "sns.barplot(x=department_counts.index, y=department_counts.values, palette='coolwarm')\n",
    "plt.title(f'Top 10 Hiring Departments in True Potential', fontsize=16)\n",
    "plt.xlabel('Department', fontsize=12)\n",
    "plt.ylabel('Number of Job Postings', fontsize=12)\n",
    "plt.xticks(rotation=45, ha='right')\n",
    "plt.tight_layout()\n",
    "plt.show()"
   ]
  },
  {
   "cell_type": "markdown",
   "metadata": {},
   "source": [
    "#### A Deeper Look at True Potential\n",
    "\n",
    "This chart provides a granular view of the top hiring departments specifically within **True Potential**.\n",
    "\n",
    "**Actionable Insight for multiply.ai:**\n",
    "\n",
    "By understanding the specific departments that `True Potential` is expanding, `multiply.ai` can tailor its outreach with a highly specific value proposition.\n",
    "\n",
    "* **Dominant Departments:** With the highest hiring volume, the focus is squarely on bringing in more **\"Financial Advisers\"**. The primary challenge here is scalability and consistency. `multiply.ai` can present itself as the perfect platform to ensure all new advisors adhere to a consistent, high-quality process from day one.\n",
    "* **Emerging Departments:** The sheer volume of advisor hiring implies a significant need for efficient client management and back-office processes. `multiply.ai` can demonstrate how its platform provides the necessary infrastructure to support this rapid expansion, ensuring that processes don't break under the strain of growth."
   ]
  },
  {
   "cell_type": "markdown",
   "metadata": {},
   "source": [
    "---"
   ]
  },
  {
   "cell_type": "markdown",
   "metadata": {},
   "source": [
    "## Part 2: Job Description Analysis"
   ]
  },
  {
   "cell_type": "code",
   "execution_count": null,
   "metadata": {},
   "outputs": [],
   "source": [
    "def analyze_keywords(text_series, keywords_list):\n",
    "    \"\"\"\n",
    "    Analyzes a series of text for a list of keywords by counting occurrences.\n",
    "    This version is simplified to avoid unnecessary NLTK dependencies.\n",
    "    \"\"\"\n",
    "    # Combine all job descriptions into one large text block and convert to lower case\n",
    "    full_text = ' '.join(text_series).lower()\n",
    "    \n",
    "    # Count keyword occurrences directly in the full text\n",
    "    keyword_counts = {keyword: full_text.count(keyword.lower()) for keyword in keywords_list}\n",
    "    \n",
    "    return keyword_counts\n",
    "\n",
    "# Define keywords related to multiply.ai's value proposition\n",
    "responsibilities_keywords = ['client relationship', 'onboarding', 'annual review', 'financial plan', 'investment research', 'compliance', 'reporting']\n",
    "tools_keywords = ['excel', 'crm', 'database', 'software', 'platform', 'technology']\n",
    "\n",
    "# Run the analysis on the 'description' column\n",
    "responsibility_counts = analyze_keywords(df['description'], responsibilities_keywords)\n",
    "tool_counts = analyze_keywords(df['description'], tools_keywords)\n",
    "\n",
    "print(\"Keyword analysis from job descriptions is complete.\")"
   ]
  },
  {
   "cell_type": "markdown",
   "metadata": {},
   "source": [
    "### Key Responsibilities Analysis"
   ]
  },
  {
   "cell_type": "code",
   "execution_count": null,
   "metadata": {},
   "outputs": [],
   "source": [
    "plt.figure(figsize=(12, 7))\n",
    "resp_df = pd.DataFrame(list(responsibility_counts.items()), columns=['Responsibility', 'Frequency']).sort_values('Frequency', ascending=False)\n",
    "sns.barplot(x='Frequency', y='Responsibility', data=resp_df, palette='crest')\n",
    "plt.title('Key Responsibilities Mentioned in Job Descriptions', fontsize=16)\n",
    "plt.xlabel('Keyword Frequency', fontsize=12)\n",
    "plt.ylabel('Responsibility / Task', fontsize=12)\n",
    "plt.tight_layout()\n",
    "plt.show()"
   ]
  },
  {
   "cell_type": "markdown",
   "metadata": {},
   "source": [
    "#### Actionable Insight\n",
    "\n",
    "**Actionable Insight for multiply.ai:**\n",
    "\n",
    "The high frequency of terms like **'client relationship'**, **'onboarding'**, and **'annual review'** in job descriptions reveals that these are critical, time-consuming parts of the advisory workflow. It highlights a need for tools that can streamline these specific processes to improve efficiency and allow advisors to focus more on high-value interactions rather than manual preparation."
   ]
  },
  {
   "cell_type": "markdown",
   "metadata": {},
   "source": [
    "### Technology & Tools Analysis"
   ]
  },
  {
   "cell_type": "code",
   "execution_count": null,
   "metadata": {},
   "outputs": [],
   "source": [
    "plt.figure(figsize=(12, 7))\n",
    "tools_df = pd.DataFrame(list(tool_counts.items()), columns=['Tool', 'Frequency']).sort_values('Frequency', ascending=False)\n",
    "sns.barplot(x='Frequency', y='Tool', data=tools_df, palette='flare')\n",
    "plt.title('Technology and Tools Mentioned in Job Descriptions', fontsize=16)\n",
    "plt.xlabel('Keyword Frequency', fontsize=12)\n",
    "plt.ylabel('Tool / Technology', fontsize=12)\n",
    "plt.tight_layout()\n",
    "plt.show()"
   ]
  },
  {
   "cell_type": "markdown",
   "metadata": {},
   "source": [
    "#### Actionable Insight\n",
    "\n",
    "**Actionable Insight for multiply.ai:**\n",
    "\n",
    "The prominent mention of foundational tools like **'Excel'** and generic **'CRM'** systems suggests a reliance on a disconnected and potentially manual technology stack. This indicates an opportunity for a modern, integrated platform to replace or augment these systems, offering more sophisticated analysis, automation, and a centralized hub for client data and activities, thereby reducing administrative overhead and the risk of errors."
   ]
  }
 ],
 "metadata": {
  "kernelspec": {
   "display_name": "venv",
   "language": "python",
   "name": "python3"
  },
  "language_info": {
   "codemirror_mode": {
    "name": "ipython",
    "version": 3
   },
   "file_extension": ".py",
   "mimetype": "text/x-python",
   "name": "python",
   "nbconvert_exporter": "python",
   "pygments_lexer": "ipython3",
   "version": "3.12.0"
  }
 },
 "nbformat": 4,
 "nbformat_minor": 4
}
